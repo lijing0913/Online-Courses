{
 "cells": [
  {
   "cell_type": "markdown",
   "id": "73eb3097",
   "metadata": {},
   "source": [
    "# Final Quiz"
   ]
  },
  {
   "cell_type": "code",
   "execution_count": 2,
   "id": "594dd926",
   "metadata": {},
   "outputs": [
    {
     "name": "stdout",
     "output_type": "stream",
     "text": [
      "46\n",
      "[ 0  1  2  3 40 40  6  7]\n"
     ]
    }
   ],
   "source": [
    "# Q1\n",
    "import numpy as np\n",
    "\n",
    "a = np.arange(8)\n",
    "b = a[4:6] # passing by reference\n",
    "b[:] = 40\n",
    "c = a[4] + a[6]\n",
    "print(c)\n",
    "print(a)"
   ]
  },
  {
   "cell_type": "markdown",
   "id": "f1ff41f9",
   "metadata": {},
   "source": [
    "Since **array slices are passed by reference**, the values at indices 4 and 5 in a will also be modified after the values in the array slice b are changed to 40. Hence, after the code is run, a = array([ 0,  1,  2,  3, 40, 40,  6,  7]). As a[4] = 40 and a[6] = 6, c = 40 + 6 = 46."
   ]
  },
  {
   "cell_type": "code",
   "execution_count": 6,
   "id": "a1a3b923",
   "metadata": {},
   "outputs": [
    {
     "name": "stdout",
     "output_type": "stream",
     "text": [
      "True\n",
      "False\n",
      "False\n"
     ]
    }
   ],
   "source": [
    "# Q2\n",
    "import re\n",
    "s = 'ABCAC'\n",
    "\n",
    "print(bool(re.match('A', s)) == True)\n",
    "# print(len(re.search('A', s)) == 2) # TypeError: object of type 're.Match' has no len()\n",
    "print(re.match('A', s) == True)\n",
    "print(len(re.split('A', s)) == 2)"
   ]
  },
  {
   "cell_type": "markdown",
   "id": "4aeeb968",
   "metadata": {},
   "source": [
    "re.match('A', s) return an re.match object. Since it will find a match for 'A' in 's', thus converting this object to bool will return True."
   ]
  },
  {
   "cell_type": "code",
   "execution_count": 18,
   "id": "ada6d9cc",
   "metadata": {},
   "outputs": [
    {
     "name": "stdout",
     "output_type": "stream",
     "text": [
      "['C', 'F', 'B']\n"
     ]
    }
   ],
   "source": [
    "# Q3\n",
    "\"\"\"\n",
    "Consider a string s. We want to find all characters (other than A) which are followed by triple A, \n",
    "i.e., have AAA to the right. \n",
    "We don’t want to include the triple A in the output and just want the character immediately preceding AAA. \n",
    "Complete the code given below that would output the required result.\n",
    "\"\"\"\n",
    "def result():\n",
    "    s = 'ACAABAACAAABACDBADDDFSDDDFFSSSASDAFAAACBAAAFASD'\n",
    "\n",
    "    result = []\n",
    "    # compete the pattern below\n",
    "    pattern = r\"(?P<character>[^A])(?=AAA)\"\n",
    "    for item in re.finditer(pattern, s):\n",
    "      # identify the group number below.\n",
    "      result.append(item.group('character'))\n",
    "      \n",
    "    return result\n",
    "\n",
    "print(result())"
   ]
  },
  {
   "cell_type": "code",
   "execution_count": 20,
   "id": "85caab7b",
   "metadata": {},
   "outputs": [
    {
     "name": "stdout",
     "output_type": "stream",
     "text": [
      "d\n",
      "4\n",
      "4\n",
      "4\n"
     ]
    }
   ],
   "source": [
    "# Q4\n",
    "\"\"\"\n",
    "Consider the following 4 expressions regarding the above pandas Series df. \n",
    "All of them have the same value except one expression. Can you identify which one it is?\n",
    "\"\"\"\n",
    "df = pd.Series({'d': 4, 'b': 7, 'a': -5, 'c': 3})\n",
    "\n",
    "print(df.index[0])\n",
    "print(df[0])\n",
    "print(df['d'])\n",
    "print(df.iloc[0])"
   ]
  },
  {
   "cell_type": "code",
   "execution_count": 9,
   "id": "d5d7b48b",
   "metadata": {},
   "outputs": [
    {
     "name": "stdout",
     "output_type": "stream",
     "text": [
      "Mango         20\n",
      "Strawberry    15\n",
      "Blueberry     18\n",
      "Vanilla       31\n",
      "dtype: int64\n",
      "Strawberry    20\n",
      "Vanilla       30\n",
      "Banana        15\n",
      "Mango         20\n",
      "Plain         20\n",
      "dtype: int64\n"
     ]
    }
   ],
   "source": [
    "# Q5\n",
    "import pandas as pd\n",
    "s1 = pd.Series({'Mango': 20, 'Strawberry': 15, 'Blueberry': 18, 'Vanilla': 31})\n",
    "s2 = pd.Series({'Strawberry': 20, 'Vanilla': 30, 'Banana': 15, 'Mango': 20, 'Plain': 20})\n",
    "print(s1)\n",
    "print(s2)"
   ]
  },
  {
   "cell_type": "code",
   "execution_count": 10,
   "id": "ccc20c76",
   "metadata": {},
   "outputs": [
    {
     "name": "stdout",
     "output_type": "stream",
     "text": [
      "Banana         NaN\n",
      "Blueberry      NaN\n",
      "Mango         40.0\n",
      "Plain          NaN\n",
      "Strawberry    35.0\n",
      "Vanilla       61.0\n",
      "dtype: float64\n"
     ]
    }
   ],
   "source": [
    "s3 = s1.add(s2)\n",
    "print(s3)"
   ]
  },
  {
   "cell_type": "code",
   "execution_count": 12,
   "id": "d2de637c",
   "metadata": {},
   "outputs": [
    {
     "name": "stdout",
     "output_type": "stream",
     "text": [
      "False\n",
      "False\n",
      "False\n",
      "True\n",
      "Banana        15.0\n",
      "Blueberry     18.0\n",
      "Mango         40.0\n",
      "Plain         20.0\n",
      "Strawberry    35.0\n",
      "Vanilla       61.0\n",
      "dtype: float64\n"
     ]
    }
   ],
   "source": [
    "print(s3['Blueberry'] == s1['Blueberry'])\n",
    "print(s3['Plain'] >= s3['Mango'])\n",
    "print(s3['Blueberry'] == s1.add(s2, fill_value = 0)['Blueberry'])\n",
    "print(s3['Mango'] >= s1.add(s2, fill_value = 0)['Mango'])\n",
    "print(s1.add(s2, fill_value = 0))"
   ]
  },
  {
   "cell_type": "code",
   "execution_count": 26,
   "id": "2e8e7bc4",
   "metadata": {},
   "outputs": [
    {
     "name": "stdout",
     "output_type": "stream",
     "text": [
      "a    0\n",
      "b    1\n",
      "c    2\n",
      "d    3\n",
      "e    4\n",
      "dtype: int64\n",
      "b    1\n",
      "c    2\n",
      "d    3\n",
      "e    4\n",
      "dtype: int64\n",
      "b    1\n",
      "c    2\n",
      "d    3\n",
      "dtype: int64\n",
      "b    1\n",
      "c    2\n",
      "d    3\n",
      "dtype: int64\n",
      "b    1\n",
      "c    2\n",
      "d    3\n",
      "dtype: int64\n"
     ]
    }
   ],
   "source": [
    "# Q7\n",
    "\"\"\"\n",
    "Consider the Series object S defined below. \n",
    "Which of the following is an incorrect way to slice S such that we obtain all data points corresponding \n",
    "to the indices 'b', 'c', and 'd'?\n",
    "\"\"\"\n",
    "S = pd.Series(np.arange(5), index=['a', 'b', 'c', 'd', 'e'])\n",
    "print(S)\n",
    "\n",
    "print(S['b': 'e']) # both ends are inclusive\n",
    "print(S[['b', 'c', 'd']])\n",
    "print(S[S <= 3][S > 0])\n",
    "print(S[1:4])"
   ]
  },
  {
   "cell_type": "code",
   "execution_count": 25,
   "id": "a7a3caab",
   "metadata": {},
   "outputs": [
    {
     "name": "stdout",
     "output_type": "stream",
     "text": [
      "     a   b   c\n",
      "R1   5   6  20\n",
      "R2   5  82  28\n",
      "R3  71  31  92\n",
      "R4  67  37  49\n",
      "a     76\n",
      "b     88\n",
      "c    112\n",
      "dtype: int64\n"
     ]
    }
   ],
   "source": [
    "# Q8\n",
    "\"\"\"\n",
    "Consider the DataFrame df shown above with indexes 'R1', 'R2', 'R3', and 'R4'.  \n",
    "In the following code, a new DataFrame df_new is created using df. What will be the value of df_new[1] \n",
    "after the below code is executed?\n",
    "\"\"\"\n",
    "frames = [{'a': 5, 'b': 6, 'c': 20}, {'a': 5, 'b': 82, 'c': 28}, {'a': 71, 'b': 31, 'c': 92}, {'a': 67, 'b': 37, 'c': 49}]\n",
    "df = pd.DataFrame(frames, index=['R1', 'R2', 'R3', 'R4'])\n",
    "print(df)\n",
    "\n",
    "f = lambda x: x.max() + x.min()\n",
    "df_new = df.apply(f)\n",
    "print(df_new)"
   ]
  },
  {
   "cell_type": "code",
   "execution_count": null,
   "id": "6b0ce687",
   "metadata": {},
   "outputs": [],
   "source": [
    "# Q10\n",
    "df = pd.Series()"
   ]
  }
 ],
 "metadata": {
  "kernelspec": {
   "display_name": "ml_mac",
   "language": "python",
   "name": "ml_mac"
  },
  "language_info": {
   "codemirror_mode": {
    "name": "ipython",
    "version": 3
   },
   "file_extension": ".py",
   "mimetype": "text/x-python",
   "name": "python",
   "nbconvert_exporter": "python",
   "pygments_lexer": "ipython3",
   "version": "3.8.15"
  }
 },
 "nbformat": 4,
 "nbformat_minor": 5
}
