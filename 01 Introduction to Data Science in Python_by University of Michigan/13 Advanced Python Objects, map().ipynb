{
 "cells": [
  {
   "cell_type": "markdown",
   "id": "1a71fade",
   "metadata": {},
   "source": [
    "# Advanced Python Objects, map()"
   ]
  },
  {
   "cell_type": "code",
   "execution_count": 2,
   "id": "b43018d3",
   "metadata": {},
   "outputs": [],
   "source": [
    "class Person: # class\n",
    "    department = 'School of Information'\n",
    "    \n",
    "    def set_name(self, new_name): # must include 'self'\n",
    "        self.name = new_name\n",
    "    def set_location(self, new_location):\n",
    "        self.location = new_location"
   ]
  },
  {
   "cell_type": "code",
   "execution_count": 4,
   "id": "f53da934",
   "metadata": {},
   "outputs": [
    {
     "name": "stdout",
     "output_type": "stream",
     "text": [
      "Sunny lives in Atlanta, GA and works in the department School of Information\n"
     ]
    }
   ],
   "source": [
    "person = Person()\n",
    "person.set_name('Sunny')\n",
    "person.set_location('Atlanta, GA')\n",
    "print('{} lives in {} and works in the department {}'.format(person.name, person.location, person.department))"
   ]
  },
  {
   "cell_type": "markdown",
   "id": "4b06d509",
   "metadata": {},
   "source": [
    "## The map() function\n",
    "\n",
    "map(function, interable, ...)\n",
    "- Return an iterator that applies function to every item of iterable, yielding the results. \n",
    "- If multiple iterables are passed, function must take that many arguments and is applied to the items from all iterables in parallel.\n",
    "- With multiple iterables, the iterator stops when the shortest iterable is exhausted."
   ]
  },
  {
   "cell_type": "code",
   "execution_count": 5,
   "id": "4a3e5b1b",
   "metadata": {},
   "outputs": [
    {
     "data": {
      "text/plain": [
       "<map at 0x7fb13307dc40>"
      ]
     },
     "execution_count": 5,
     "metadata": {},
     "output_type": "execute_result"
    }
   ],
   "source": [
    "store1 = [10.00, 11.00, 12.34, 2.34]\n",
    "store2 = [9.00, 11.10, 12.34, 2.01]\n",
    "cheapest = map(min, store1, store2)\n",
    "cheapest # lazy evaluation; efficient memory management"
   ]
  },
  {
   "cell_type": "code",
   "execution_count": 6,
   "id": "f7e1662a",
   "metadata": {},
   "outputs": [
    {
     "data": {
      "text/plain": [
       "[9.0, 11.0, 12.34, 2.01]"
      ]
     },
     "execution_count": 6,
     "metadata": {},
     "output_type": "execute_result"
    }
   ],
   "source": [
    "list(cheapest)"
   ]
  },
  {
   "cell_type": "markdown",
   "id": "75af1b45",
   "metadata": {},
   "source": [
    "**Question**: Here is a list of faculty teaching this MOOC. Can you write a function and apply it using map() to get a list of all faculty titles and last names (e.g. ['Dr. Brooks', 'Dr. Collins-Thompson', …]) ?"
   ]
  },
  {
   "cell_type": "code",
   "execution_count": 9,
   "id": "adab7f1c",
   "metadata": {
    "scrolled": true
   },
   "outputs": [
    {
     "data": {
      "text/plain": [
       "['Dr.Brooks', 'Dr.Collins-Thompson', 'Dr.Vydiswaran', 'Dr.Romero']"
      ]
     },
     "execution_count": 9,
     "metadata": {},
     "output_type": "execute_result"
    }
   ],
   "source": [
    "people = ['Dr. Christopher Brooks', 'Dr. Kevyn Collins-Thompson', 'Dr. VG Vinod Vydiswaran', 'Dr. Daniel Romero']\n",
    "\n",
    "def split_title_and_name(person):\n",
    "    title = person.split()[0]\n",
    "    lastname = person.split()[-1]\n",
    "    return '{}{}'.format(title, lastname)\n",
    "\n",
    "list(map(split_title_and_name, people))"
   ]
  }
 ],
 "metadata": {
  "kernelspec": {
   "display_name": "ml_mac",
   "language": "python",
   "name": "ml_mac"
  },
  "language_info": {
   "codemirror_mode": {
    "name": "ipython",
    "version": 3
   },
   "file_extension": ".py",
   "mimetype": "text/x-python",
   "name": "python",
   "nbconvert_exporter": "python",
   "pygments_lexer": "ipython3",
   "version": "3.8.15"
  }
 },
 "nbformat": 4,
 "nbformat_minor": 5
}
